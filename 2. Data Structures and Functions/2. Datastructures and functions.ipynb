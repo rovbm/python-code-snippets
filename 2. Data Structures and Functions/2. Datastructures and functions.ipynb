{
 "cells": [
  {
   "cell_type": "markdown",
   "metadata": {},
   "source": [
    "### Q. Write a for loop to loop over a tuple, t = (1, 2, 3, 4, 5) and print out the odd ones."
   ]
  },
  {
   "cell_type": "code",
   "execution_count": 8,
   "metadata": {},
   "outputs": [
    {
     "name": "stdout",
     "output_type": "stream",
     "text": [
      "The Odd numbers are 1\n",
      "The Odd numbers are 3\n",
      "The Odd numbers are 5\n",
      "The Odd numbers are 7\n",
      "The Odd numbers are 7\n",
      "The Odd numbers are 7\n"
     ]
    }
   ],
   "source": [
    "tuple = (1,2,3,4,5,6,6,7,7,7)\n",
    "for each in tuple:\n",
    "    if (each%2!=0):\n",
    "        print(f'The Odd numbers are {each}')"
   ]
  },
  {
   "cell_type": "markdown",
   "metadata": {},
   "source": [
    "### Q. Given a list, li = [3, 1, 2, 6, 7, 8, 9] Sort it in decending order and reverse it using the slice tool. The expected output is: [9, 8, 7, 6, 3, 2, 1]"
   ]
  },
  {
   "cell_type": "code",
   "execution_count": 15,
   "metadata": {},
   "outputs": [
    {
     "name": "stdout",
     "output_type": "stream",
     "text": [
      "Sorting the list in descending order  [9, 8, 7, 6, 3, 2, 1]\n"
     ]
    }
   ],
   "source": [
    "li = [3, 1, 2, 6, 7, 8, 9]\n",
    "li.sort(reverse=True)\n",
    "print('Sorting the list in descending order ',li)\n"
   ]
  },
  {
   "cell_type": "code",
   "execution_count": 17,
   "metadata": {},
   "outputs": [
    {
     "name": "stdout",
     "output_type": "stream",
     "text": [
      "Reversing the list using slicing  [9, 8, 7, 6, 2, 1, 3]\n"
     ]
    }
   ],
   "source": [
    "li = [3, 1, 2, 6, 7, 8, 9]\n",
    "print('Reversing the list using slicing ',li[::-1])"
   ]
  },
  {
   "cell_type": "markdown",
   "metadata": {},
   "source": [
    "### Q. Given a multi dimension list, mylist = [[1,2,3],[4,5,6,7],[8,9,10]] . Loop over it, and print only the odd numbers."
   ]
  },
  {
   "cell_type": "code",
   "execution_count": null,
   "metadata": {
    "collapsed": true
   },
   "outputs": [],
   "source": [
    "my_list = [[1,2,3],[4,5,6,7],[8,9,10]]\n",
    "for each in my_list:\n",
    "    for every in each:\n",
    "        if every%2 != 0:\n",
    "            print (f'The odd numbers from the {my_list} are {every}')"
   ]
  },
  {
   "cell_type": "code",
   "execution_count": null,
   "metadata": {
    "collapsed": true
   },
   "outputs": [],
   "source": []
  },
  {
   "cell_type": "code",
   "execution_count": null,
   "metadata": {
    "collapsed": true
   },
   "outputs": [],
   "source": []
  }
 ],
 "metadata": {
  "kernelspec": {
   "display_name": "Python 3",
   "language": "python",
   "name": "python3"
  },
  "language_info": {
   "codemirror_mode": {
    "name": "ipython",
    "version": 3
   },
   "file_extension": ".py",
   "mimetype": "text/x-python",
   "name": "python",
   "nbconvert_exporter": "python",
   "pygments_lexer": "ipython3",
   "version": "3.6.3"
  }
 },
 "nbformat": 4,
 "nbformat_minor": 2
}
