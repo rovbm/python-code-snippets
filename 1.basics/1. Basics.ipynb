{
 "cells": [
  {
   "cell_type": "markdown",
   "metadata": {},
   "source": [
    "### Q1. Write a simple python script."
   ]
  },
  {
   "cell_type": "code",
   "execution_count": 14,
   "metadata": {},
   "outputs": [
    {
     "name": "stdout",
     "output_type": "stream",
     "text": [
      "Enter your Name : anis\n",
      "Welcome, anis\n"
     ]
    }
   ],
   "source": [
    "name = input('Enter your Name : ')\n",
    "print(f'Welcome, {name}')"
   ]
  },
  {
   "cell_type": "markdown",
   "metadata": {},
   "source": [
    "### Q2. Write a Python program which accepts the radius of a circle from the user and compute the area.         [Note: use string formatter and placeholders to prettify your output. Your output should be only upto 3 dedimal places.]"
   ]
  },
  {
   "cell_type": "code",
   "execution_count": 15,
   "metadata": {},
   "outputs": [
    {
     "name": "stdout",
     "output_type": "stream",
     "text": [
      "Enter radius : 2\n",
      "Area of circle with 2.0 radius is 12.571\n"
     ]
    }
   ],
   "source": [
    "pi = 22/7\n",
    "radius = float(input('Enter radius : '))    #input always gives a string value\n",
    "area_of_circle = pi * radius ** 2\n",
    "print(f'Area of circle with {radius} radius is {area_of_circle:.3f}')    #.3f = 3 floating values"
   ]
  },
  {
   "cell_type": "markdown",
   "metadata": {},
   "source": [
    "### Q3. Write a function which accepts your friend's name as a argument and prints a Happy Birthday song for him/her.\n"
   ]
  },
  {
   "cell_type": "code",
   "execution_count": 20,
   "metadata": {},
   "outputs": [
    {
     "name": "stdout",
     "output_type": "stream",
     "text": [
      "Sorry your name is not registered\n",
      "Happy Birthday anis\n"
     ]
    }
   ],
   "source": [
    "#Traditional way\n",
    "def birthday_wisher(name):\n",
    "    if (name == 'anis'):\n",
    "        #print('Happy Birthday',name)    #simple print method\n",
    "        print('Happy Birthday {}'.format(name))    #using string formatter\n",
    "        print (f'Happy Birthday {name}')    #using new string formatter in 3.6.3\n",
    "    else:\n",
    "        print(\"Sorry your name is not registered\")\n",
    "birthday_wisher('ram')\n",
    "\n",
    "# Using Lambda \n",
    "birthday_wisher = lambda name: print (f'Happy Birthday {name}') if (name == 'anis') else print('Sorry your name is not registered')\n",
    "birthday_wisher ('anis')"
   ]
  },
  {
   "cell_type": "markdown",
   "metadata": {},
   "source": [
    "### Q4. Write a Python script to prove that (a+b)² = a²+2ab+b²"
   ]
  },
  {
   "cell_type": "code",
   "execution_count": 12,
   "metadata": {},
   "outputs": [
    {
     "name": "stdout",
     "output_type": "stream",
     "text": [
      "LHS = 36\n",
      "RHS = 49\n",
      "Not Proved\n"
     ]
    }
   ],
   "source": [
    "# Using function\n",
    "\n",
    "def lhs(a,b):\n",
    "    lhs_e = (a+b)**2\n",
    "    return lhs_e\n",
    "def rhs(a,b):\n",
    "    rhs_e = a**2 + 2*a*b + b**2\n",
    "    return rhs_e\n",
    "x = lhs(2,4)\n",
    "y = rhs(3,4)\n",
    "if (x == y):\n",
    "    print(f'LHS = {x}\\nRHS = {y}')\n",
    "    print(\"Hence Proved\")\n",
    "else:\n",
    "    print(f'LHS = {x}\\nRHS = {y}')\n",
    "    print(\"Not Proved\")\n",
    "\n",
    "#Using Lambda\n",
    "\n",
    "# eq1 = lambda a,b : (a+b)**2\n",
    "# eq2 = lambda a,b : a**2 + 2*a*b + b**2\n",
    "# check = lambda x,y: print('Hence Proved') if x == y else print(\"Not Proved\")\n",
    "# check (1,1)"
   ]
  },
  {
   "cell_type": "markdown",
   "metadata": {},
   "source": [
    "### Q5. Write a Python script that prints \"Hello World\" ten times. (no new lines at the end)"
   ]
  },
  {
   "cell_type": "code",
   "execution_count": 21,
   "metadata": {},
   "outputs": [
    {
     "name": "stdout",
     "output_type": "stream",
     "text": [
      "Hello WorldHello WorldHello WorldHello WorldHello WorldHello WorldHello WorldHello WorldHello WorldHello World\n"
     ]
    }
   ],
   "source": [
    "var = \"Hello World\"\n",
    "var_rep = var*10\n",
    "print(f'{var_rep}')\n",
    "\n"
   ]
  },
  {
   "cell_type": "markdown",
   "metadata": {},
   "source": [
    "### Q6. Define a function to determine whether the user's integer input is a even number or an odd number."
   ]
  },
  {
   "cell_type": "code",
   "execution_count": 23,
   "metadata": {},
   "outputs": [
    {
     "name": "stdout",
     "output_type": "stream",
     "text": [
      "Enter a integer value10\n",
      "The given number 10 is Even\n"
     ]
    }
   ],
   "source": [
    "num = int(input('Enter a integer value : '))\n",
    "def odd_or_even(num):\n",
    "    if (num%2 ==0):\n",
    "        print(f'The given number {num} is Even')\n",
    "    else:\n",
    "        print(f'The given number {num} is Odd')\n",
    "odd_or_even(num)"
   ]
  },
  {
   "cell_type": "markdown",
   "metadata": {},
   "source": [
    "### Q7. Define a global static password value by yourself. Then define a function which prompts user for a password. If the password is a match, print \"password match\" or else print \"Wrong password\""
   ]
  },
  {
   "cell_type": "code",
   "execution_count": 25,
   "metadata": {},
   "outputs": [
    {
     "name": "stdout",
     "output_type": "stream",
     "text": [
      "Enter password to get access : admin\n",
      "Password Matched\n"
     ]
    }
   ],
   "source": [
    "password = 'admin'\n",
    "def password_check(password):\n",
    "    pw = input('Enter password to get access : ')\n",
    "    if (pw==password):\n",
    "        print ('Password Matched')\n",
    "    else:\n",
    "        print('Wrong Password')\n",
    "password_check(password)"
   ]
  },
  {
   "cell_type": "markdown",
   "metadata": {},
   "source": [
    "### Q8. We have v=u+at where v is velocity, u is initial velocity, and t is time. And value for each is as follows: v=25m/s. u=0m/s, t=10 seconds. Find the acceleration a. [Rearrange the equation, also use proper formatting syntax while displaying the answer.]"
   ]
  },
  {
   "cell_type": "code",
   "execution_count": 27,
   "metadata": {},
   "outputs": [
    {
     "name": "stdout",
     "output_type": "stream",
     "text": [
      "Enter Velocity : 2\n",
      "Enter Initial Velocity : 1\n",
      "Enter time : 10\n",
      "Acceleration = 0.1m/s^2\n"
     ]
    }
   ],
   "source": [
    "v = float(input(\"Enter Velocity : \"))\n",
    "u = float(input(\"Enter Initial Velocity : \"))\n",
    "t = float(input(\"Enter time : \"))\n",
    "a = (v-u)/t\n",
    "print(f\"Acceleration = {a} m/s^2\")"
   ]
  }
 ],
 "metadata": {
  "kernelspec": {
   "display_name": "Python 3",
   "language": "python",
   "name": "python3"
  },
  "language_info": {
   "codemirror_mode": {
    "name": "ipython",
    "version": 3
   },
   "file_extension": ".py",
   "mimetype": "text/x-python",
   "name": "python",
   "nbconvert_exporter": "python",
   "pygments_lexer": "ipython3",
   "version": "3.6.3"
  }
 },
 "nbformat": 4,
 "nbformat_minor": 2
}
